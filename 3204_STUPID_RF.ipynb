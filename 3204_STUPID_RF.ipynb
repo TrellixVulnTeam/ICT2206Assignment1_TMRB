{
  "nbformat": 4,
  "nbformat_minor": 0,
  "metadata": {
    "colab": {
      "provenance": [],
      "authorship_tag": "ABX9TyM1frsnz3XByjX3BdknDrZ6",
      "include_colab_link": true
    },
    "kernelspec": {
      "name": "python3",
      "display_name": "Python 3"
    },
    "language_info": {
      "name": "python"
    }
  },
  "cells": [
    {
      "cell_type": "markdown",
      "metadata": {
        "id": "view-in-github",
        "colab_type": "text"
      },
      "source": [
        "<a href=\"https://colab.research.google.com/github/potatopootie/ICT2206Assignment1/blob/main/3204_STUPID_RF.ipynb\" target=\"_parent\"><img src=\"https://colab.research.google.com/assets/colab-badge.svg\" alt=\"Open In Colab\"/></a>"
      ]
    },
    {
      "cell_type": "markdown",
      "source": [
        "Import libraries"
      ],
      "metadata": {
        "id": "gFjivCyJna9x"
      }
    },
    {
      "cell_type": "code",
      "source": [
        "import numpy as np\n",
        "import matplotlib.pyplot as plt\n",
        "import pandas as pd\n",
        "import pickle\n",
        "import os\n",
        "import re\n",
        "import seaborn as sns \n"
      ],
      "metadata": {
        "id": "BmNSg3JDsPPa"
      },
      "execution_count": null,
      "outputs": []
    },
    {
      "cell_type": "markdown",
      "source": [
        "To input dataset and check if the columns and output is correct"
      ],
      "metadata": {
        "id": "t8GweakxnTRo"
      }
    },
    {
      "cell_type": "code",
      "source": [
        "%matplotlib inline\n",
        "plt.style.use('ggplot')\n",
        "full_df = pd.read_csv(r\"shuffled-noIPV6.csv\")\n",
        "# df = pd.read_csv(\"truncated_training.csv\")\n",
        "\n",
        "print(f\"[*] Shape of dataset: {full_df.shape}\")\n",
        "from sklearn.utils import shuffle\n",
        "\n",
        "# Drop the first column (unnamed)\n",
        "full_df.drop(full_df.columns[0], axis=1, inplace=True)\n",
        "full_df = shuffle(full_df)\n",
        "\n",
        "print(full_df.tail())\n",
        "print(\"\\n\")"
      ],
      "metadata": {
        "id": "oMxCKDuyskre",
        "colab": {
          "base_uri": "https://localhost:8080/"
        },
        "outputId": "f8487bd6-43e8-449f-865d-e5a88914f5dc"
      },
      "execution_count": null,
      "outputs": [
        {
          "output_type": "stream",
          "name": "stdout",
          "text": [
            "[*] Shape of dataset: (98274, 15)\n",
            "         @timestamp           src_ip src_port         dst_ip dst_port  \\\n",
            "16422  1.666582e+09  192.168.207.142        0              0        0   \n",
            "94503  1.666591e+09                0        0      10.0.0.21     3306   \n",
            "48048  1.666692e+09     100.64.19.22     8443  100.64.19.103    43524   \n",
            "59323  1.666692e+09                0        0              0        0   \n",
            "50954  1.666692e+09    100.64.19.103    44618   100.64.19.22     8443   \n",
            "\n",
            "      Protocol http_request_method http_request_referrer http_response_code  \\\n",
            "16422    HTTPS                 GET                     0                404   \n",
            "94503        0                   0                     0                  0   \n",
            "48048      TCP                   0                     0                  0   \n",
            "59323        0                   0                     0                  0   \n",
            "50954      TCP                   0                     0                  0   \n",
            "\n",
            "           url_path user_agent_original sql_method sql_query         category  \n",
            "16422  /message.php  gobuster/3.2.0-dev          0         0  web_enumeration  \n",
            "94503             0                   0          0         0  sql_enumeration  \n",
            "48048             0                   0          0         0        port_scan  \n",
            "59323             0                   0          0         0        port_scan  \n",
            "50954             0                   0          0         0        port_scan  \n",
            "\n",
            "\n"
          ]
        }
      ]
    },
    {
      "cell_type": "code",
      "source": [
        "# Doing further cleaning \n",
        "full_df[\"src_port\"]=  full_df[\"src_port\"].replace(regex=\",\", value= \"\")\n",
        "full_df[\"src_port\"]=  full_df[\"src_port\"].replace(regex=\",\", value= \"\")\n",
        "full_df[\"dst_port\"]=  full_df[\"dst_port\"].replace(regex=\",\", value= \"\")\n",
        "full_df[\"dst_port\"]=  full_df[\"dst_port\"].replace(regex=\" \", value= \"\")\n",
        "full_df[\"src_port\"] = full_df[\"src_port\"].replace(regex=\" \", value=\"\")\n",
        "full_df[\"src_port\"] = full_df[\"src_port\"].replace(regex=\"dns\", value=\"53\")\n",
        "full_df[\"dst_port\"] = full_df[\"dst_port\"].replace(regex=\"dns\", value=\"53\")\n",
        "full_df[\"dst_ip\"] = full_df[\"dst_ip\"].replace(regex=\"\\S*:+\\S+\", value=\"0\")"
      ],
      "metadata": {
        "id": "jiFrYHH_mhr2"
      },
      "execution_count": null,
      "outputs": []
    },
    {
      "cell_type": "code",
      "source": [
        "# metrics module implements functions assessing prediction error for specific purposes \n",
        "from sklearn import metrics\n",
        "scores = {}\n",
        "scores_list= []\n",
        "# function for results of the algo\n",
        "def scoring_metrics(y_test, y_pred, model): \n",
        "    print(f\"y_test size:{y_test.size} y_pred size:{y_pred.size}\")\n",
        "    accuracy = metrics.accuracy_score(y_test, y_pred)\n",
        "    scores[model] = accuracy\n",
        "    scores_list.append(accuracy)\n",
        "#     confusion_matrix = metrics.confusion_matrix(y_true=[True, True], y_pred=[True, True], labels=[True, False])\n",
        "    cm = confusion_matrix(y_test, y_pred, labels=['nmap_scan', 'port_scan', 'smtp_enumeration', 'sql_enumeration', 'web_enumeration'])\n",
        "    print(f\"Confusion Matrix: {cm}\")\n",
        "\n",
        "    print(f\"\\n[*] Model: {model}\")\n",
        "    print(\"[*] Precision: {:.3f}%\".format(metrics.precision_score(y_test, y_pred, average=\"weighted\")))\n",
        "    print(\"[*] Recall: {:.3f}%\".format(metrics.recall_score(y_test, y_pred, average=\"weighted\")))\n",
        "\n",
        "    print(\"[*] Accuracy: {:.3f}%\".format(accuracy))\n",
        "    print(\"[*] F1_score: {:.3f}%\".format(metrics.f1_score(y_test, y_pred, average=\"weighted\")))"
      ],
      "metadata": {
        "id": "HACgbjzBO-UO"
      },
      "execution_count": null,
      "outputs": []
    },
    {
      "cell_type": "code",
      "source": [
        "df = full_df.head(15000)\n",
        "# df = full_df"
      ],
      "metadata": {
        "id": "JaKrtgWcwX1t"
      },
      "execution_count": null,
      "outputs": []
    },
    {
      "cell_type": "code",
      "source": [
        "print(\"Doing\")\n",
        "from sklearn.preprocessing import OneHotEncoder\n",
        "df.replace(to_replace=[\"None\"], value=np.nan, inplace=True)\n",
        "clean_df = df.fillna(str(0)) #uhm i dont knowhow to explain this, but please lmk another alternative to fix this cause :\") try to run it without str and you will know what i mean\"\n",
        "clean_x = clean_df.iloc[:, :13].values\n",
        "clean_y = clean_df[\"category\"].values\n",
        "features = df.columns.values[:-1]\n",
        "\n",
        "for label in clean_df.columns:\n",
        "    for index, rows in clean_df.iterrows():\n",
        "        new_ip = \"\"\n",
        "        ip = str(rows[label])\n",
        "        if re.search(\"\\d+\\.\\d+\\.\\d+\\.\\d+\", ip):\n",
        "            octets = ip.split(\".\")\n",
        "            for octet in octets:\n",
        "                octet = octet.rjust(3,\"0\")\n",
        "                new_ip += octet\n",
        "            clean_df[label][index] = new_ip\n",
        "\n",
        "clean_df[\"http_response_code\"] = clean_df[\"http_response_code\"].replace('HTTP/1.1\"', value=\"0\")\n",
        "clean_df[\"src_ip\"] = clean_df[\"src_ip\"].replace('::1', value=\"0\")\n",
        "clean_df[\"dst_ip\"] = clean_df[\"dst_ip\"].replace('::1', value=\"0\")\n",
        "# clean_df[\"http_response_code\"] = clean_df[\"http_response_code\"].replace('HTTP/1.1\"', value=\"0\")\n",
        "print(\"Done\")"
      ],
      "metadata": {
        "colab": {
          "base_uri": "https://localhost:8080/"
        },
        "id": "iecwTVpNwaO_",
        "outputId": "f9dc0459-0a3b-4072-e388-858badd127f1"
      },
      "execution_count": null,
      "outputs": [
        {
          "output_type": "stream",
          "name": "stdout",
          "text": [
            "Doing\n"
          ]
        },
        {
          "output_type": "stream",
          "name": "stderr",
          "text": [
            "/usr/local/lib/python3.7/dist-packages/pandas/core/frame.py:5244: SettingWithCopyWarning: \n",
            "A value is trying to be set on a copy of a slice from a DataFrame\n",
            "\n",
            "See the caveats in the documentation: https://pandas.pydata.org/pandas-docs/stable/user_guide/indexing.html#returning-a-view-versus-a-copy\n",
            "  method=method,\n",
            "/usr/local/lib/python3.7/dist-packages/ipykernel_launcher.py:18: SettingWithCopyWarning: \n",
            "A value is trying to be set on a copy of a slice from a DataFrame\n",
            "\n",
            "See the caveats in the documentation: https://pandas.pydata.org/pandas-docs/stable/user_guide/indexing.html#returning-a-view-versus-a-copy\n"
          ]
        },
        {
          "output_type": "stream",
          "name": "stdout",
          "text": [
            "Done\n"
          ]
        }
      ]
    },
    {
      "cell_type": "code",
      "source": [
        "from sklearn.compose import make_column_transformer\n",
        "clean_x = clean_df.iloc[:, :13] #honestly don't know if this is correct lmaoooo (To take all the columns except for the last one)\n",
        "#this is to iterate through the columns and convert the strings to float (passthrough means for those columns we didnt specify, leave it as it is)\n",
        "column_trans = make_column_transformer((OneHotEncoder(sparse=False), ['Protocol', 'http_request_method', 'http_request_referrer', 'url_path', 'user_agent_original', 'sql_method', 'sql_query']),remainder='passthrough')\n",
        "test = column_trans.fit_transform(clean_x) #this is technically our cl"
      ],
      "metadata": {
        "id": "hwDEkITu2Dd5"
      },
      "execution_count": null,
      "outputs": []
    },
    {
      "cell_type": "code",
      "source": [
        "from sklearn.model_selection import train_test_split\n",
        "#clean_y is category \n",
        "# x_train, x_test, y_train, y_test = train_test_split(x, y, test_size=0.3)\n",
        "x_train, x_test, y_train, y_test = train_test_split(test, clean_y, test_size=0.3)"
      ],
      "metadata": {
        "id": "b4eINd36PEnB"
      },
      "execution_count": null,
      "outputs": []
    },
    {
      "cell_type": "markdown",
      "source": [
        "Train the algorithm"
      ],
      "metadata": {
        "id": "xnfsfsaorTlN"
      }
    },
    {
      "cell_type": "markdown",
      "source": [
        "FOR RANDOM FOREST CLASSIFIER \n",
        "criterion='gini' = measure the quality of the split \n",
        "\n",
        "max_depth = maximum depth of the tree, if none, then nodes are expanded until all trees are pure (?) \n",
        "\n",
        "min_samples_split = minimum number of samples required to split an internal node\n",
        "\n",
        "random_state = controls both the randomness and bootstrapping of the samples when building trees "
      ],
      "metadata": {
        "id": "kZbIdI3vRZ38"
      }
    },
    {
      "cell_type": "code",
      "source": [
        "from sklearn.ensemble import RandomForestClassifier\n",
        "clf = RandomForestClassifier(criterion=\"gini\",\n",
        "                             max_depth= 10,\n",
        "                             min_samples_split = 10,\n",
        "                             random_state=5) #can put any number here"
      ],
      "metadata": {
        "id": "iMaw-oncoMAR"
      },
      "execution_count": null,
      "outputs": []
    },
    {
      "cell_type": "code",
      "source": [
        "clf.fit(x_train, y_train)"
      ],
      "metadata": {
        "id": "MvbLKh7riRHD",
        "colab": {
          "base_uri": "https://localhost:8080/"
        },
        "outputId": "18677c16-e22f-4cde-c49a-1874d96b3398"
      },
      "execution_count": null,
      "outputs": [
        {
          "output_type": "execute_result",
          "data": {
            "text/plain": [
              "RandomForestClassifier(max_depth=10, min_samples_split=10, random_state=5)"
            ]
          },
          "metadata": {},
          "execution_count": 12
        }
      ]
    },
    {
      "cell_type": "code",
      "source": [
        "y_pred = clf.predict(x_test)"
      ],
      "metadata": {
        "id": "tTJQ8f_bNf5j"
      },
      "execution_count": null,
      "outputs": []
    },
    {
      "cell_type": "code",
      "source": [
        "y_pred"
      ],
      "metadata": {
        "colab": {
          "base_uri": "https://localhost:8080/"
        },
        "id": "Cjt-4-OrNjyj",
        "outputId": "661b36de-b539-4c71-8fe1-ecdb07774b84"
      },
      "execution_count": null,
      "outputs": [
        {
          "output_type": "execute_result",
          "data": {
            "text/plain": [
              "array(['port_scan', 'port_scan', 'port_scan', ..., 'port_scan',\n",
              "       'port_scan', 'port_scan'], dtype=object)"
            ]
          },
          "metadata": {},
          "execution_count": 14
        }
      ]
    },
    {
      "cell_type": "code",
      "source": [
        "from sklearn.metrics import confusion_matrix\n",
        "confusion_matrix(y_test, y_pred)"
      ],
      "metadata": {
        "colab": {
          "base_uri": "https://localhost:8080/"
        },
        "id": "b-0ohIbKNmPm",
        "outputId": "e102c53e-20d5-4ef8-8f15-f8079462b06f"
      },
      "execution_count": null,
      "outputs": [
        {
          "output_type": "execute_result",
          "data": {
            "text/plain": [
              "array([[ 390,    1,    0,    0,    0],\n",
              "       [   0, 2256,    0,    0,    0],\n",
              "       [   0,    8,    0,    0,    0],\n",
              "       [   0,  210,    0,  328,    0],\n",
              "       [   0,  180,    0,    0, 1127]])"
            ]
          },
          "metadata": {},
          "execution_count": 15
        }
      ]
    },
    {
      "cell_type": "code",
      "source": [
        "from sklearn.metrics import accuracy_score\n",
        "accuracy_score(y_test, y_pred)"
      ],
      "metadata": {
        "colab": {
          "base_uri": "https://localhost:8080/"
        },
        "id": "xOV8UGsFN3I9",
        "outputId": "1665354a-5eee-4cdc-8ff7-c260a4921368"
      },
      "execution_count": null,
      "outputs": [
        {
          "output_type": "execute_result",
          "data": {
            "text/plain": [
              "0.9113333333333333"
            ]
          },
          "metadata": {},
          "execution_count": 16
        }
      ]
    },
    {
      "cell_type": "code",
      "source": [
        "from sklearn.model_selection import cross_val_score\n",
        "cross_val_score(clf, x_train, y_train, cv=10)"
      ],
      "metadata": {
        "colab": {
          "base_uri": "https://localhost:8080/"
        },
        "id": "KaLlFnphOHsr",
        "outputId": "fbc4311d-8bfe-4a6d-ad56-7087210b9e0a"
      },
      "execution_count": null,
      "outputs": [
        {
          "output_type": "execute_result",
          "data": {
            "text/plain": [
              "array([0.91333333, 0.94190476, 0.8247619 , 0.83047619, 0.90285714,\n",
              "       0.90761905, 0.91809524, 0.92095238, 0.94380952, 0.90761905])"
            ]
          },
          "metadata": {},
          "execution_count": 17
        }
      ]
    },
    {
      "cell_type": "code",
      "source": [
        "from sklearn.metrics import classification_report\n",
        "print(classification_report(y_pred, y_test))"
      ],
      "metadata": {
        "colab": {
          "base_uri": "https://localhost:8080/"
        },
        "id": "wfyjKGRSOX41",
        "outputId": "f795d1e9-d742-43a5-bb0e-b339d275f124"
      },
      "execution_count": null,
      "outputs": [
        {
          "output_type": "stream",
          "name": "stdout",
          "text": [
            "                  precision    recall  f1-score   support\n",
            "\n",
            "       nmap_scan       1.00      1.00      1.00       390\n",
            "       port_scan       1.00      0.85      0.92      2655\n",
            "smtp_enumeration       0.00      0.00      0.00         0\n",
            " sql_enumeration       0.61      1.00      0.76       328\n",
            " web_enumeration       0.86      1.00      0.93      1127\n",
            "\n",
            "        accuracy                           0.91      4500\n",
            "       macro avg       0.69      0.77      0.72      4500\n",
            "    weighted avg       0.94      0.91      0.92      4500\n",
            "\n"
          ]
        },
        {
          "output_type": "stream",
          "name": "stderr",
          "text": [
            "/usr/local/lib/python3.7/dist-packages/sklearn/metrics/_classification.py:1318: UndefinedMetricWarning: Recall and F-score are ill-defined and being set to 0.0 in labels with no true samples. Use `zero_division` parameter to control this behavior.\n",
            "  _warn_prf(average, modifier, msg_start, len(result))\n",
            "/usr/local/lib/python3.7/dist-packages/sklearn/metrics/_classification.py:1318: UndefinedMetricWarning: Recall and F-score are ill-defined and being set to 0.0 in labels with no true samples. Use `zero_division` parameter to control this behavior.\n",
            "  _warn_prf(average, modifier, msg_start, len(result))\n",
            "/usr/local/lib/python3.7/dist-packages/sklearn/metrics/_classification.py:1318: UndefinedMetricWarning: Recall and F-score are ill-defined and being set to 0.0 in labels with no true samples. Use `zero_division` parameter to control this behavior.\n",
            "  _warn_prf(average, modifier, msg_start, len(result))\n"
          ]
        }
      ]
    }
  ]
}